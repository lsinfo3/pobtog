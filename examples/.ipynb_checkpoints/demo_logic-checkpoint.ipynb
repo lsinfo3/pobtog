version https://git-lfs.github.com/spec/v1
oid sha256:7cb42d75aae695c85b3335a7b193509349d7f15e7574e70a0f19029d20138f86
size 35383645
