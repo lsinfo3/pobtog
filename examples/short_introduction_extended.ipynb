version https://git-lfs.github.com/spec/v1
oid sha256:afb084b5a5311a69c905a6ac5b0a68b756c015882752980dbe924ef245f5e803
size 54318
